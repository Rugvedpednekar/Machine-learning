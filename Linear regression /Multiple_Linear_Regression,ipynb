import pandas as pd 
import math
import matplotlib.pyplot as plt
from sklearn import linear_model

df = pd.read_csv("homeprices.csv")
df.head()

df.isna().sum()

import math
df = df.sort_values(by="area")
med_bath = math.floor(df["bedrooms"].median())

df = df.fillna(med_bath)

reg = linear_model.LinearRegression()
reg.fit(df[["area","bedrooms","age"]], df["price"])
reg.predict([[2900,2,10]])

plt.scatter(df.area,df.price,color = "blue", marker="+")
plt.plot(df.area, reg.predict(df[["area","bedrooms","age"]]), color ="red")
